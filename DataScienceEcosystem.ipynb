{
 "cells": [
  {
   "cell_type": "markdown",
   "id": "99117f2b",
   "metadata": {},
   "source": [
    "# Data Science Tools and Ecosystem"
   ]
  },
  {
   "cell_type": "markdown",
   "id": "1c6b2bb3",
   "metadata": {},
   "source": [
    "In this notebook, Data Science Tools and Ecosystem are summarized."
   ]
  },
  {
   "cell_type": "markdown",
   "id": "19b28452",
   "metadata": {},
   "source": [
    "Some of the popular languages that Data Scientists use are:\n",
    "1. Python\n",
    "2. Julia\n",
    "3. JavaScript"
   ]
  },
  {
   "cell_type": "markdown",
   "id": "88e17d32",
   "metadata": {},
   "source": [
    "Some of the commonly used libraries used by Data Scientists include:\n",
    "1. Pandas\n",
    "2. PyTorch\n",
    "3. SciPy"
   ]
  },
  {
   "cell_type": "markdown",
   "id": "e90b4180",
   "metadata": {},
   "source": [
    "| Data Science Tools |\n",
    "| ------------------ |\n",
    "| RapidMiner | \n",
    "| Tableau |\n",
    "| Apache Spark |"
   ]
  },
  {
   "cell_type": "markdown",
   "id": "79962c71",
   "metadata": {},
   "source": [
    "### Below are a few examples of evaluating arithmetic expressions in Python"
   ]
  },
  {
   "cell_type": "code",
   "execution_count": 5,
   "id": "39564e59",
   "metadata": {},
   "outputs": [
    {
     "data": {
      "text/plain": [
       "17"
      ]
     },
     "execution_count": 5,
     "metadata": {},
     "output_type": "execute_result"
    }
   ],
   "source": [
    "(3*4)+5 #This a simple arithmetic expression to mutiply then add integers"
   ]
  },
  {
   "cell_type": "code",
   "execution_count": 6,
   "id": "a2271a55",
   "metadata": {},
   "outputs": [
    {
     "data": {
      "text/plain": [
       "3.3333333333333335"
      ]
     },
     "execution_count": 6,
     "metadata": {},
     "output_type": "execute_result"
    }
   ],
   "source": [
    "(200/60) #This will convert 200 minutes to hours by dividing by 60"
   ]
  },
  {
   "cell_type": "markdown",
   "id": "3f4466fe",
   "metadata": {},
   "source": [
    "**Objectives:**\n",
    "- This notebook covers up the different ways of using the markdown cell.\n",
    "- In addition, this notebook helps me recall the different tools used for Data Science.\n",
    "- Finally, there are different ways of typing headers to show organization of the notebook presentation.\n",
    "- The different popular languages for Data Science are:\n",
    "    - Python\n",
    "    - Julia\n",
    "    - JavaScript"
   ]
  },
  {
   "cell_type": "markdown",
   "id": "7912004a",
   "metadata": {},
   "source": [
    "## Author\n",
    "John Louise E. Lagazo"
   ]
  }
 ],
 "metadata": {
  "kernelspec": {
   "display_name": "Python 3 (ipykernel)",
   "language": "python",
   "name": "python3"
  },
  "language_info": {
   "codemirror_mode": {
    "name": "ipython",
    "version": 3
   },
   "file_extension": ".py",
   "mimetype": "text/x-python",
   "name": "python",
   "nbconvert_exporter": "python",
   "pygments_lexer": "ipython3",
   "version": "3.11.3"
  }
 },
 "nbformat": 4,
 "nbformat_minor": 5
}
